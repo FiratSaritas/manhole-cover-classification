{
 "cells": [
  {
   "cell_type": "code",
   "execution_count": 1,
   "id": "ac510a99-f17f-4427-bceb-28da30b92cd6",
   "metadata": {},
   "outputs": [],
   "source": [
    "import sys\n",
    "\n",
    "sys.path.append(\"..\") if \"..\" not in sys.path else print(\"Already exists\")\n",
    "\n",
    "import matplotlib.pyplot as plt\n",
    "import numpy as np\n",
    "import pandas as pd\n",
    "import PIL\n",
    "import seaborn as sns\n",
    "import torch\n",
    "import torch.nn as nn\n",
    "import torch.optim as optim\n",
    "import torchvision.transforms.functional as F\n",
    "from sklearn.metrics import accuracy_score, confusion_matrix, precision_score, recall_score, f1_score\n",
    "from torchvision import models\n",
    "from torchvision import transforms as transforms\n",
    "from torchvision.datasets import ImageFolder\n",
    "from torchvision.utils import make_grid\n",
    "from tqdm.notebook import tqdm\n",
    "\n",
    "from utils.dataset import get_dataloader\n",
    "from utils.training import TrainingInterface, print_total_params, train_network\n",
    "from utils.plots import EvaluationPlots"
   ]
  },
  {
   "cell_type": "markdown",
   "id": "09bcdfb7-7c18-40d1-83d7-728cb655a186",
   "metadata": {},
   "source": [
    "### Initiate Dataloaders"
   ]
  },
  {
   "cell_type": "code",
   "execution_count": 2,
   "id": "fa9dcf64-3874-41e1-bc0a-2479e4335d61",
   "metadata": {},
   "outputs": [],
   "source": [
    "further_transforms = transforms.Compose(\n",
    "    [\n",
    "        transforms.Resize(224),\n",
    "        transforms.ToTensor(),\n",
    "        transforms.Normalize(mean=[0.485, 0.456, 0.406], \n",
    "                             std=[0.229, 0.224, 0.225]),\n",
    "    ]\n",
    ")\n",
    "\n",
    "BATCH_SIZE = 32\n",
    "WORKERS = 12"
   ]
  },
  {
   "cell_type": "code",
   "execution_count": 3,
   "id": "3e090eee-e415-44f7-b1a4-98bbb5291797",
   "metadata": {},
   "outputs": [],
   "source": [
    "dataloader_train = get_dataloader(\n",
    "    root_dir=\"../data/interim_train/\",\n",
    "    df=pd.read_csv(\"../data/train.csv\"),\n",
    "    fp_label_translator='../utils/dataset/label_translate.pkl',\n",
    "    transformations=further_transforms,\n",
    "    batch_size=BATCH_SIZE,\n",
    "    workers=WORKERS,\n",
    "    pin_memory=True,\n",
    "    shuffle=True\n",
    ")\n",
    "dataloader_val = get_dataloader(\n",
    "    root_dir=\"../data/val/\",\n",
    "    df=pd.read_csv(\"../data/val.csv\"),\n",
    "    fp_label_translator='../utils/dataset/label_translate.pkl',\n",
    "    transformations=further_transforms,\n",
    "    batch_size=BATCH_SIZE,\n",
    "    workers=12,\n",
    "    pin_memory=True,\n",
    "    shuffle=True\n",
    ")\n",
    "dataloader_test = get_dataloader(\n",
    "    root_dir=\"../data/test/\",\n",
    "    df=pd.read_csv(\"../data/test.csv\"),\n",
    "    fp_label_translator='../utils/dataset/label_translate.pkl',\n",
    "    transformations=further_transforms,\n",
    "    batch_size=BATCH_SIZE,\n",
    "    workers=WORKERS,\n",
    "    pin_memory=True,\n",
    "    shuffle=True\n",
    ")"
   ]
  },
  {
   "cell_type": "code",
   "execution_count": 4,
   "id": "06ddc757-d6b8-471d-872c-bdea00a09bee",
   "metadata": {},
   "outputs": [],
   "source": [
    "assert dataloader_train.dataset.label_dict == dataloader_val.dataset.label_dict\n",
    "assert dataloader_val.dataset.label_dict == dataloader_test.dataset.label_dict"
   ]
  },
  {
   "cell_type": "markdown",
   "id": "c7c7d296-6057-46b4-b5dd-b360aa8f7d91",
   "metadata": {},
   "source": [
    "### Check Dataloader Batch"
   ]
  },
  {
   "cell_type": "code",
   "execution_count": 5,
   "id": "45d62521-77b5-4c60-8a87-d4a8dbb06291",
   "metadata": {},
   "outputs": [],
   "source": [
    "# Plot batch\n",
    "check_batch = False\n",
    "\n",
    "plt.rcParams[\"savefig.bbox\"] = \"tight\"\n",
    "\n",
    "def show(imgs):\n",
    "    if not isinstance(imgs, list):\n",
    "        imgs = [imgs]\n",
    "    fix, axs = plt.subplots(ncols=len(imgs), squeeze=False, figsize=(12, 20))\n",
    "    for i, img in enumerate(imgs):\n",
    "        img = img.detach()\n",
    "        img = F.to_pil_image(img)\n",
    "        axs[0, i].imshow(np.asarray(img))\n",
    "        axs[0, i].set(xticklabels=[], yticklabels=[], xticks=[], yticks=[])\n",
    "\n",
    "\n",
    "if check_batch:\n",
    "    for loader in [dataloader_train, dataloader_val, dataloader_test]:\n",
    "        img, labels = next(iter(loader))\n",
    "        assert img.shape[0] == BATCH_SIZE\n",
    "        assert len(labels) == BATCH_SIZE"
   ]
  },
  {
   "cell_type": "markdown",
   "id": "0b83e7ee-ee41-482d-8580-4361c839e98c",
   "metadata": {},
   "source": [
    "# ConvNext\n",
    "\n",
    "## Transfer-Learning"
   ]
  },
  {
   "cell_type": "code",
   "execution_count": 19,
   "id": "5661fcfb-6f30-4f25-a488-b05270c43a79",
   "metadata": {},
   "outputs": [],
   "source": [
    "convnext_tiny_ = models.convnext_tiny(pretrained=True, progress=True)"
   ]
  },
  {
   "cell_type": "code",
   "execution_count": 20,
   "id": "812fed99-f609-493b-b3be-737ded37e4a9",
   "metadata": {},
   "outputs": [],
   "source": [
    "#print(convnext_tiny_)"
   ]
  },
  {
   "cell_type": "code",
   "execution_count": 21,
   "id": "ef69b021-04e0-4fcb-8256-2671c65f09cd",
   "metadata": {},
   "outputs": [
    {
     "name": "stdout",
     "output_type": "stream",
     "text": [
      "False\n",
      "False\n",
      "False\n",
      "False\n"
     ]
    }
   ],
   "source": [
    "for param in convnext_tiny_.parameters():\n",
    "    param.requires_grad = False\n",
    "\n",
    "convnext_tiny_.classifier[2] = nn.Linear(\n",
    "    in_features=768, out_features=len(dataloader_train.dataset.label_dict.keys())\n",
    ")\n",
    "\n",
    "for param in convnext_tiny_.classifier.parameters():\n",
    "    param.requires_grad = False\n",
    "    print(param.requires_grad)\n",
    "\n",
    "# Set requires grad for FC weights\n",
    "convnext_tiny_.classifier[2].weight.requires_grad = True\n",
    "convnext_tiny_.classifier[2].bias.requires_grad = True"
   ]
  },
  {
   "cell_type": "code",
   "execution_count": 22,
   "id": "58c86c9e-8b37-4ec4-87f4-789f56fc4b7c",
   "metadata": {},
   "outputs": [
    {
     "name": "stdout",
     "output_type": "stream",
     "text": [
      "classifier.2.weight\n",
      "classifier.2.bias\n"
     ]
    }
   ],
   "source": [
    "# Check\n",
    "for name, param in convnext_tiny_.named_parameters():\n",
    "    if param.requires_grad:\n",
    "        print(name)"
   ]
  },
  {
   "cell_type": "code",
   "execution_count": 23,
   "id": "1dce95b5-748a-49b1-8a5e-1a9b86971fe2",
   "metadata": {},
   "outputs": [],
   "source": [
    "convnext = TrainingInterface(model=convnext_tiny_, name=\"ConvNext Tiny\")"
   ]
  },
  {
   "cell_type": "code",
   "execution_count": 24,
   "id": "625ad849-2650-4f53-94a9-95c383a18522",
   "metadata": {},
   "outputs": [
    {
     "name": "stdout",
     "output_type": "stream",
     "text": [
      "==================================================\n",
      "ConvNext Tiny | Trainable Parameters: 27830125\n",
      "==================================================\n"
     ]
    }
   ],
   "source": [
    "convnext.print_total_params()"
   ]
  },
  {
   "cell_type": "code",
   "execution_count": 25,
   "id": "f9660b68-1825-423c-be99-7b2dd947bcfd",
   "metadata": {},
   "outputs": [],
   "source": [
    "criterion = nn.CrossEntropyLoss()\n",
    "optimizer = optim.Adam(convnext.model.parameters(), lr=0.0001)"
   ]
  },
  {
   "cell_type": "code",
   "execution_count": null,
   "id": "57fefcfa-3b16-4381-8ca7-8ffaf76d0281",
   "metadata": {},
   "outputs": [
    {
     "data": {
      "application/vnd.jupyter.widget-view+json": {
       "model_id": "5b599c188012411ba254513edfd89416",
       "version_major": 2,
       "version_minor": 0
      },
      "text/plain": [
       "  0%|          | 0/2970 [00:00<?, ?it/s]"
      ]
     },
     "metadata": {},
     "output_type": "display_data"
    },
    {
     "name": "stdout",
     "output_type": "stream",
     "text": [
      "Epoch 1/15: [Train-Loss = 430.98] || [Validation-Loss = 14.635]\n",
      "Epoch 2/15: [Train-Loss = 326.69] || [Validation-Loss = 13.33]\n",
      "Epoch 3/15: [Train-Loss = 277.042] || [Validation-Loss = 12.486]\n",
      "Epoch 4/15: [Train-Loss = 247.56] || [Validation-Loss = 12.034]\n",
      "Epoch 5/15: [Train-Loss = 228.793] || [Validation-Loss = 11.787]\n",
      "Epoch 6/15: [Train-Loss = 214.51] || [Validation-Loss = 11.494]\n",
      "Epoch 7/15: [Train-Loss = 203.826] || [Validation-Loss = 11.02]\n",
      "Epoch 8/15: [Train-Loss = 194.113] || [Validation-Loss = 10.753]\n",
      "Epoch 9/15: [Train-Loss = 186.82] || [Validation-Loss = 10.462]\n",
      "Epoch 10/15: [Train-Loss = 180.605] || [Validation-Loss = 10.436]\n",
      "Epoch 11/15: [Train-Loss = 175.976] || [Validation-Loss = 10.248]\n",
      "Epoch 12/15: [Train-Loss = 171.029] || [Validation-Loss = 9.901]\n",
      "Epoch 13/15: [Train-Loss = 167.015] || [Validation-Loss = 10.028]\n",
      "Epoch 14/15: [Train-Loss = 163.088] || [Validation-Loss = 9.825]\n"
     ]
    }
   ],
   "source": [
    "convnext.train(\n",
    "    criterion=criterion,\n",
    "    optimizer=optimizer,\n",
    "    n_epochs=15,\n",
    "    dataloader_train=dataloader_train,\n",
    "    dataloader_val=dataloader_val,\n",
    "    verbose=True\n",
    ")"
   ]
  },
  {
   "cell_type": "code",
   "execution_count": null,
   "id": "678e64e3-1030-4ee1-991b-9addb4f868c6",
   "metadata": {},
   "outputs": [],
   "source": [
    "EvaluationPlots.plot_train_val_loss(convnext.train_loss, \n",
    "                                    convnext.val_loss)"
   ]
  },
  {
   "cell_type": "code",
   "execution_count": null,
   "id": "fcbda2b5-dd53-4cbb-a2ef-0c8e6d0d98e0",
   "metadata": {},
   "outputs": [],
   "source": [
    "metrics = convnext.calculate_metrics(dataloader_train=dataloader_train, \n",
    "                                     dataloader_test=dataloader_test, \n",
    "                                     metric_funcs=[precision_score, recall_score, f1_score], \n",
    "                                     average='macro')"
   ]
  },
  {
   "cell_type": "code",
   "execution_count": null,
   "id": "ab70c45f-ad75-4663-8897-a882e2167f8c",
   "metadata": {},
   "outputs": [],
   "source": [
    "metrics"
   ]
  },
  {
   "cell_type": "code",
   "execution_count": null,
   "id": "19b4ff0c-3386-4b65-a579-39e97cdd8370",
   "metadata": {},
   "outputs": [],
   "source": [
    "y_true, y_pred = convnext.predict(dataloader_test)"
   ]
  },
  {
   "cell_type": "code",
   "execution_count": null,
   "id": "a0826ac4-1597-46eb-95ae-365c38678184",
   "metadata": {},
   "outputs": [],
   "source": [
    "EvaluationPlots.plot_confusion_matrix(y_true, y_pred, dataloader_test.dataset.label_dict_r)"
   ]
  },
  {
   "cell_type": "code",
   "execution_count": null,
   "id": "e52edef7-ad0d-4aae-bb7f-391fab422b7e",
   "metadata": {},
   "outputs": [],
   "source": []
  },
  {
   "cell_type": "code",
   "execution_count": null,
   "id": "29df7c7f-0649-4e7d-ba1d-8e97c7b9fd4d",
   "metadata": {},
   "outputs": [],
   "source": [
    "colors = sns.color_palette('Paired', 4)\n",
    "sns.set_style('white')\n",
    "\n",
    "fig = plt.subplots(figsize=(18, 5))\n",
    "\n",
    "sma = 50\n",
    "\n",
    "plt.subplot(1,2,1)\n",
    "mean_loss_folds = losses_adam.mean(axis=1)\n",
    "mean_loss_folds = mean_loss_folds.rolling(sma).mean()\n",
    "std_loss_folds = losses_adam.std(axis=1)\n",
    "std_loss_folds = std_loss_folds.rolling(sma).mean()\n",
    "\n",
    "p = sns.lineplot(x=mean_loss_folds.index, y=mean_loss_folds, label='Mean Batch', color=colors[1])\n",
    "p = sns.lineplot(x=mean_loss_folds.index, y=mean_loss_folds + std_loss_folds, \n",
    "                 label=r'$\\pm1\\sigma$', color=colors[0], linestyle='--', alpha=.5)\n",
    "p = sns.lineplot(x=mean_loss_folds.index, y=mean_loss_folds - std_loss_folds, \n",
    "                 color=colors[0], linestyle='--', alpha=.5)\n",
    "plt.text(x=mean_loss_folds.index[-1], y=mean_loss_folds.iloc[-1], \n",
    "         s=str(round(mean_loss_folds.iloc[-1], 2)), va='center')\n",
    "p.set_title(f'Loss over Batches Adam-Optimizer / SMA{50}',loc='left')\n",
    "p.set_xlabel('Batches')\n",
    "p.set_ylabel('Cross-Entropy Loss')\n",
    "sns.despine()"
   ]
  },
  {
   "cell_type": "code",
   "execution_count": null,
   "id": "c5036e90-6ff0-4b02-b1b2-03b141b7fc10",
   "metadata": {},
   "outputs": [],
   "source": [
    "def visualize_model(self, model, dataloader, num_images=6, ncol=3, \n",
    "                    label_translator=label_translator):\n",
    "    device = torch.device(\"cuda\") if torch.cuda.is_available() else torch.device(\"cpu\")\n",
    "    invTrans = Compose([ Normalize(mean = [ 0., 0., 0. ],\n",
    "                                   std = [ 1/0.229, 1/0.224, 1/0.225 ]),\n",
    "                        Normalize(mean = [ -0.485, -0.456, -0.406 ],\n",
    "                                  std = [ 1., 1., 1. ]),\n",
    "                       ])\n",
    "    was_training = model.training\n",
    "    model.eval()\n",
    "    images_so_far = 0\n",
    "\n",
    "    with torch.no_grad():\n",
    "        for i, (inputs, labels) in enumerate(dataloader):\n",
    "            inputs = inputs.to(device)\n",
    "            labels = labels.to(device)\n",
    "\n",
    "            outputs = model(inputs)\n",
    "            _, preds = torch.max(outputs, 1)\n",
    "\n",
    "            fig = plt.subplots(figsize=(18, (num_images//ncol) * 5))\n",
    "            for j in range(num_images):\n",
    "                plt.subplot(num_images//ncol+1, ncol, j+1)\n",
    "                plt.title('predicted: {} / actual: {}'.format(label_translator[preds[j].item()],\n",
    "                                                              label_translator[labels[j].item()]))\n",
    "                img = inputs.cpu().data[j]\n",
    "                img = invTrans(img)\n",
    "                img = to_pil_image(img)\n",
    "                plt.imshow(img)\n",
    "                images_so_far += 1\n",
    "\n",
    "            model.train(mode=was_training)\n",
    "            plt.subplots_adjust(hspace=.3)\n",
    "            plt.show()\n",
    "            break"
   ]
  },
  {
   "cell_type": "code",
   "execution_count": null,
   "id": "5dd0cfa6-16dd-4948-89aa-b60aa4552f9d",
   "metadata": {},
   "outputs": [],
   "source": []
  },
  {
   "cell_type": "code",
   "execution_count": null,
   "id": "bb49c4d4-2d79-4007-999a-d4636f36c90a",
   "metadata": {},
   "outputs": [],
   "source": []
  },
  {
   "cell_type": "code",
   "execution_count": null,
   "id": "112e5996-3b66-4c3d-b54e-fc6e3fe27537",
   "metadata": {},
   "outputs": [],
   "source": []
  },
  {
   "cell_type": "markdown",
   "id": "e3c93955-395c-4d7e-a9d6-6781f9a5306f",
   "metadata": {},
   "source": [
    "## No Transfer-Learning"
   ]
  },
  {
   "cell_type": "code",
   "execution_count": null,
   "id": "4142728f-2498-4051-a075-7a1b6b4b86f9",
   "metadata": {},
   "outputs": [],
   "source": [
    "convnext_tiny_ = models.convnext_tiny(pretrained=False, progress=True)"
   ]
  },
  {
   "cell_type": "code",
   "execution_count": null,
   "id": "c03a6e4b-6470-4168-88d1-96f2e7bcd0b1",
   "metadata": {},
   "outputs": [],
   "source": [
    "for param in convnext_tiny_.parameters():\n",
    "    param.requires_grad = True"
   ]
  },
  {
   "cell_type": "code",
   "execution_count": null,
   "id": "665d1bfd-28c5-475f-8876-015092b38c8f",
   "metadata": {},
   "outputs": [],
   "source": [
    "convnext_nopre = TrainingInterface(model=convnext_tiny_, name='ConvNext Tiny Not Pretrained') "
   ]
  },
  {
   "cell_type": "code",
   "execution_count": null,
   "id": "57a6b566-ef4e-45f3-847f-63b91bafc54f",
   "metadata": {},
   "outputs": [],
   "source": [
    "criterion = nn.CrossEntropyLoss()\n",
    "optimizer = optim.Adam(convnext.model.parameters(), lr=0.000005)"
   ]
  },
  {
   "cell_type": "code",
   "execution_count": null,
   "id": "f571b990-fa2d-41b6-a281-1f33314e3452",
   "metadata": {},
   "outputs": [],
   "source": [
    "convnext.train(\n",
    "    criterion=criterion,\n",
    "    optimizer=optimizer,\n",
    "    n_epochs=5,\n",
    "    dataloader_train=dataloader_train,\n",
    "    dataloader_val=dataloader_val,\n",
    "    verbose=True\n",
    ")"
   ]
  },
  {
   "cell_type": "code",
   "execution_count": null,
   "id": "75b6b758-cd50-4dde-abac-b2ac91e6f5b8",
   "metadata": {},
   "outputs": [],
   "source": [
    "EvaluationPlots.plot_train_val_loss(convnext.train_loss, \n",
    "                                    convnext.val_loss,)"
   ]
  },
  {
   "cell_type": "markdown",
   "id": "5c7a19ac-85c7-44f6-81fd-cbc6f155f356",
   "metadata": {},
   "source": [
    "## AlexNet\n",
    "\n",
    "### Pretrained"
   ]
  },
  {
   "cell_type": "code",
   "execution_count": null,
   "id": "dcc6fc6b-c2b8-4fd7-8741-20f8e915d403",
   "metadata": {},
   "outputs": [],
   "source": [
    "alexnet_ = models.alexnet(pretrained=True, progress=True)"
   ]
  },
  {
   "cell_type": "code",
   "execution_count": null,
   "id": "c81bb0f5-7322-4658-8434-7132c541993c",
   "metadata": {},
   "outputs": [],
   "source": [
    "alexnet_.classifier[6] = nn.Linear(4096, len(dataloader_train.dataset.label_dict.keys()))"
   ]
  },
  {
   "cell_type": "code",
   "execution_count": null,
   "id": "2fd7b851-efb7-4650-88e8-60b0a959ddee",
   "metadata": {},
   "outputs": [],
   "source": [
    "# Switch off grads for all layers\n",
    "for param in alexnet_.parameters():\n",
    "    param.requires_grad = False"
   ]
  },
  {
   "cell_type": "code",
   "execution_count": null,
   "id": "8c93f222-d77d-4d61-a4bc-b5bc486afcdd",
   "metadata": {},
   "outputs": [],
   "source": [
    "# Switch on gradients for classifer\n",
    "for name, param in alexnet_.named_parameters():\n",
    "    if 'classifier' in name:\n",
    "        param.requires_grad = True\n",
    "        print(name)"
   ]
  },
  {
   "cell_type": "code",
   "execution_count": null,
   "id": "184f321f-8625-4d65-9cf8-6a6ce317986d",
   "metadata": {},
   "outputs": [],
   "source": [
    "alexnet = TrainingInterface(model=alexnet_, name='Alex Net')"
   ]
  },
  {
   "cell_type": "code",
   "execution_count": null,
   "id": "27f46795-6b46-43f4-8686-558eff6bf007",
   "metadata": {},
   "outputs": [],
   "source": [
    "criterion = nn.CrossEntropyLoss()"
   ]
  },
  {
   "cell_type": "code",
   "execution_count": null,
   "id": "e38e01d0-069d-46a0-8943-ce0c2a824522",
   "metadata": {},
   "outputs": [],
   "source": [
    "optimizer = optim.Adam(alexnet.model.parameters(), lr=0.00000005)"
   ]
  },
  {
   "cell_type": "code",
   "execution_count": null,
   "id": "07330ed1-cc81-4faf-846f-ee63c9b995a3",
   "metadata": {},
   "outputs": [],
   "source": [
    "alexnet.train(\n",
    "    criterion=criterion,\n",
    "    optimizer=optimizer,\n",
    "    n_epochs=5,\n",
    "    dataloader_train=dataloader_train,\n",
    "    dataloader_val=dataloader_val,\n",
    "    verbose=True\n",
    ")\n",
    "EvaluationPlots.plot_train_val_loss(alexnet.train_loss, \n",
    "                                    alexnet.val_loss)"
   ]
  },
  {
   "cell_type": "code",
   "execution_count": null,
   "id": "93830d36-4f5c-4511-906f-c91155b27924",
   "metadata": {},
   "outputs": [],
   "source": [
    "alexnet."
   ]
  },
  {
   "cell_type": "code",
   "execution_count": null,
   "id": "6156d2fd-c31f-43f2-87be-551cff0c49d8",
   "metadata": {},
   "outputs": [],
   "source": []
  },
  {
   "cell_type": "markdown",
   "id": "f67d929b-778f-4537-8c34-cfb12544bdd1",
   "metadata": {},
   "source": [
    "### Not Pretrained"
   ]
  },
  {
   "cell_type": "code",
   "execution_count": null,
   "id": "f9d4051b-9f7b-4ccd-a9da-2b4deb1b67aa",
   "metadata": {},
   "outputs": [],
   "source": [
    "alexnet_ = models.alexnet(pretrained=False, progress=True)"
   ]
  },
  {
   "cell_type": "code",
   "execution_count": null,
   "id": "2f25eb6b-b1ff-4f8e-b10b-ff3e96483ef7",
   "metadata": {},
   "outputs": [],
   "source": [
    "# Switch off grads for all layers\n",
    "for param in alexnet_.parameters():\n",
    "    param.requires_grad = True"
   ]
  },
  {
   "cell_type": "code",
   "execution_count": null,
   "id": "69e61a43-749b-4919-a4eb-45b4552f5789",
   "metadata": {},
   "outputs": [],
   "source": [
    "# Exchange last layer \n",
    "alexnet_.classifier[6] = nn.Linear(4096, len(dataloader_train.dataset.label_dict.keys()))"
   ]
  },
  {
   "cell_type": "code",
   "execution_count": null,
   "id": "a1029140-bb65-4259-adcc-3e24a82056e7",
   "metadata": {},
   "outputs": [],
   "source": [
    "alexnet_np = TrainingInterface(model=alexnet_, name='Alex Net NP')"
   ]
  },
  {
   "cell_type": "code",
   "execution_count": null,
   "id": "8d3e1949-a6af-4897-a67f-9fdaea3d468b",
   "metadata": {},
   "outputs": [],
   "source": [
    "criterion = nn.CrossEntropyLoss()"
   ]
  },
  {
   "cell_type": "code",
   "execution_count": null,
   "id": "8656f719-dde7-4ad4-a602-3641e76ab9b9",
   "metadata": {},
   "outputs": [],
   "source": [
    "optimizer = optim.Adam(alexnet_np.model.parameters(), lr=0.000005)"
   ]
  },
  {
   "cell_type": "code",
   "execution_count": null,
   "id": "6ac31265-e743-4cc6-8f5a-0142853d9405",
   "metadata": {},
   "outputs": [],
   "source": [
    "alexnet_np.train(\n",
    "    criterion=criterion,\n",
    "    optimizer=optimizer,\n",
    "    n_epochs=5,\n",
    "    dataloader_train=dataloader_train,\n",
    "    dataloader_val=dataloader_val,\n",
    "    verbose=True\n",
    ")\n",
    "EvaluationPlots.plot_train_val_loss(alexnet_np.train_loss, \n",
    "                                    alexnet_np.val_loss )"
   ]
  },
  {
   "cell_type": "markdown",
   "id": "6fa176e8-2974-4a29-a595-65314bf04a67",
   "metadata": {},
   "source": [
    "## ResNet18\n",
    "\n",
    "### Pretrained"
   ]
  },
  {
   "cell_type": "code",
   "execution_count": null,
   "id": "ace41cc9-6dc0-4c0b-8a2b-5f0383270a96",
   "metadata": {},
   "outputs": [],
   "source": [
    "resnet_ = models.resnet18(pretrained=True, progress=True)"
   ]
  },
  {
   "cell_type": "code",
   "execution_count": null,
   "id": "4ff745dd-ea28-4d86-8c5f-0dfe9c6a5bfa",
   "metadata": {},
   "outputs": [],
   "source": [
    "#print(resnet_)"
   ]
  },
  {
   "cell_type": "code",
   "execution_count": null,
   "id": "3be801c5-170c-47eb-906c-5424f77717a0",
   "metadata": {},
   "outputs": [],
   "source": [
    "for param in resnet_.parameters():\n",
    "    param.requires_grad = False\n",
    "\n",
    "# Replace fc\n",
    "resnet_.fc = nn.Linear(512, len(dataloader_train.dataset.label_dict.keys()))\n",
    "\n",
    "# Enable grad\n",
    "resnet_.fc.weight.requires_grad = True\n",
    "resnet_.fc.bias.requires_grad = True\n",
    "\n",
    "# check\n",
    "for name, param in resnet_.named_parameters():\n",
    "    if param.requires_grad:\n",
    "        print('Requires Grad:', name)"
   ]
  },
  {
   "cell_type": "code",
   "execution_count": null,
   "id": "4f1cff63-198a-497e-b331-2e05aac634ab",
   "metadata": {},
   "outputs": [],
   "source": [
    "resnet = TrainingInterface(model=resnet_, name='ResNet18 pretrained')"
   ]
  },
  {
   "cell_type": "code",
   "execution_count": null,
   "id": "a400d50c-3905-4fdb-99b6-6923ca544079",
   "metadata": {},
   "outputs": [],
   "source": [
    "criterion = nn.CrossEntropyLoss()\n",
    "optimizer = optim.Adam(resnet.model.parameters(), lr=.00001)"
   ]
  },
  {
   "cell_type": "code",
   "execution_count": null,
   "id": "3bbaadc3-2d58-4aad-a3a1-ad3c3b57131e",
   "metadata": {},
   "outputs": [],
   "source": [
    "resnet.train(\n",
    "    criterion=criterion,\n",
    "    optimizer=optimizer,\n",
    "    n_epochs=10,\n",
    "    dataloader_train=dataloader_train,\n",
    "    dataloader_val=dataloader_val,\n",
    "    verbose=True\n",
    ")\n",
    "EvaluationPlots.plot_train_val_loss(resnet.train_loss, resnet.val_loss)"
   ]
  },
  {
   "cell_type": "code",
   "execution_count": null,
   "id": "7dd49efc-b3fe-4142-a962-c3ede92adf61",
   "metadata": {},
   "outputs": [],
   "source": [
    "y_true, y_pred = resnet.predict(dataloader_test)"
   ]
  },
  {
   "cell_type": "code",
   "execution_count": null,
   "id": "2c2a02dc-0aac-490d-96ba-b72e1dc9ecad",
   "metadata": {},
   "outputs": [],
   "source": [
    "EvaluationPlots.plot_confusion_matrix(y_true, y_pred, \n",
    "                                      class_labels=dataloader_test.dataset.label_dict_r)"
   ]
  },
  {
   "cell_type": "code",
   "execution_count": null,
   "id": "151b27b1-7c98-4b4b-be3f-de0fe5a858df",
   "metadata": {},
   "outputs": [],
   "source": [
    "A = [1,2,4,123,2,1]"
   ]
  },
  {
   "cell_type": "code",
   "execution_count": null,
   "id": "349941bc-e5db-40d7-8afb-fb949f1d57ce",
   "metadata": {},
   "outputs": [],
   "source": [
    "list(zip(A))"
   ]
  },
  {
   "cell_type": "code",
   "execution_count": null,
   "id": "4a438829-61c5-4a27-bf5d-75a7df2ce031",
   "metadata": {},
   "outputs": [],
   "source": []
  }
 ],
 "metadata": {
  "kernelspec": {
   "display_name": "env",
   "language": "python",
   "name": "env"
  },
  "language_info": {
   "codemirror_mode": {
    "name": "ipython",
    "version": 3
   },
   "file_extension": ".py",
   "mimetype": "text/x-python",
   "name": "python",
   "nbconvert_exporter": "python",
   "pygments_lexer": "ipython3",
   "version": "3.9.4"
  }
 },
 "nbformat": 4,
 "nbformat_minor": 5
}
